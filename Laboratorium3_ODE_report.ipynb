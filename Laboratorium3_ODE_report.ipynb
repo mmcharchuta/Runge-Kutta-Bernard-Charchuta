{
 "cells": [
  {
   "cell_type": "markdown",
   "metadata": {},
   "source": [
    "# Laboratorium 3: Analiza wrażliwości\n",
    "\n",
    "**Imię i nazwisko:** Anna Bernard, Mikołaj Mieszko Charchuta \n",
    "**Grupa:**  Symulanci\n",
    "**Data wykonania:**  29.05.2025\n",
    "\n",
    "---\n",
    "\n",
    "## 1. Wstęp\n",
    "\n",
    "W tym laboratorium podjęliśmy się prób oceny wrażliwości lokalnej (opartej o funkcje wrażliwości) \n",
    "i globalnej (opartej o wskaźniki Sobola)."
   ]
  },
  {
   "cell_type": "markdown",
   "metadata": {},
   "source": [
    "## 2. Opis zaimplementowanego rozwiązania\n",
    "\n",
    "- **Wariant implementacji:** RK4 ze stałym krokiem, ręcznie wpisane pochodne\n",
    "- **Biblioteki użyte:** matplotlib, SALib\n",
    "- **Model:** Wrażliwość symulacji dynamiki białek p53, MDMcyto, MDMn, PTEN na zmiany parametrów reakcji w dwóch scenariuszach biologicznych\n",
    "- **Horyzont czasowy:** 48 godzin (2880 minut)\n",
    "- **Krok całkowania:** 6 minut\n",
    "- **Wprowadzanie danych:** Przyjęcie domyślnych"
   ]
  },
  {
   "cell_type": "code",
   "execution_count": 10,
   "metadata": {},
   "outputs": [],
   "source": [
    "def f_p53(params, p53, mdmn): \n",
    "    return params['p1'] - params['d1'] * p53 * (mdmn**2)\n",
    "\n",
    "def f_mdmcyto(params, p53, mdmcyto, pten, siRNA=False, no_DNA_damage=False):\n",
    "    siRNA_factor = params['value_siRNA'] if siRNA else 1\n",
    "    DNA_damage_factor = params['value_no_DNA_damage'] if no_DNA_damage else 1\n",
    "    return (params['p2'] * siRNA_factor * (p53**4) / ((p53**4) + (params['k2']**4))\n",
    "            - params['k1'] * (params['k3']**2) / ((params['k3']**2) + (pten**2)) * mdmcyto\n",
    "            - params['d2'] * DNA_damage_factor * mdmcyto)\n",
    "\n",
    "def f_mdmn(params, mdmn, mdmcyto, pten, no_DNA_damage=False):\n",
    "    if no_DNA_damage:\n",
    "        return (params['k1'] * (params['k3']**2) / ((params['k3']**2) + (pten**2)) * mdmcyto\n",
    "                - params['d2'] * params['value_no_DNA_damage'] * mdmn)\n",
    "    else:\n",
    "        return (params['k1'] * (params['k3']**2) / ((params['k3']**2) + (pten**2)) * mdmcyto\n",
    "                - params['d2'] * mdmn)\n",
    "\n",
    "def f_pten(params, pten, p53, pten_off=False):\n",
    "    if not pten_off:\n",
    "        return (params['p3'] * (p53**4) / ((p53**4) + (params['k2']**4))\n",
    "                - params['d3'] * pten)\n",
    "    else:\n",
    "        return (params['p3'] * params['value_PTEN_off'] * (p53**4) / ((p53**4) + (params['k2']**4))\n",
    "                - params['d3'] * pten)\n",
    "\n",
    "    \n",
    "# Pochodne tych funkcji(?):\n",
    "\n",
    "# RK4 ze stałym krokiem\n",
    "def RK4const(params, p53, mdcyto, mdmn, pten, h, siRNA=False, pten_off=False, no_DNA_damage=False):\n",
    "    k1_p53 = f_p53(params, p53, mdmn)\n",
    "    k1_mdmcyto = f_mdmcyto(params, p53, mdcyto, pten, siRNA)\n",
    "    k1_mdmn = f_mdmn(params, mdmn, mdcyto, pten)\n",
    "    k1_pten = f_pten(params, pten, p53, pten_off)\n",
    "\n",
    "    k2_p53 = f_p53(params, p53 + h/2*k1_p53, mdmn + h/2*k1_mdmn)\n",
    "    k2_mdmcyto = f_mdmcyto(params, p53 + h/2*k1_p53, mdcyto + h/2*k1_mdmcyto, pten + h/2*k1_pten, siRNA)\n",
    "    k2_mdmn = f_mdmn(params, mdmn + h/2*k1_mdmn, mdcyto + h/2*k1_mdmcyto, pten + h/2*k1_pten)\n",
    "    k2_pten = f_pten(params, pten + h/2*k1_pten, p53 + h/2*k1_p53, pten_off)\n",
    "\n",
    "    k3_p53 = f_p53(params, p53 + h/2*k2_p53, mdmn + h/2*k2_mdmn)\n",
    "    k3_mdmcyto = f_mdmcyto(params, p53 + h/2*k2_p53, mdcyto + h/2*k2_mdmcyto, pten + h/2*k2_pten, siRNA)\n",
    "    k3_mdmn = f_mdmn(params, mdmn + h/2*k2_mdmn, mdcyto + h/2*k2_mdmcyto, pten + h/2*k2_pten)\n",
    "    k3_pten = f_pten(params, pten + h/2*k2_pten, p53 + h/2*k2_p53, pten_off)\n",
    "\n",
    "    k4_p53 = f_p53(params, p53 + h*k3_p53, mdmn + h*k3_mdmn)\n",
    "    k4_mdmcyto = f_mdmcyto(params, p53 + h*k3_p53, mdcyto + h*k3_mdmcyto, pten + h*k3_pten, siRNA)\n",
    "    k4_mdmn = f_mdmn(params, mdmn + h*k3_mdmn, mdcyto + h*k3_mdmcyto, pten + h*k3_pten)\n",
    "    k4_pten = f_pten(params, pten + h*k3_pten, p53 + h*k3_p53, pten_off)\n",
    "\n",
    "\n",
    "    p53 += (k1_p53 + 2*k2_p53 + 2*k3_p53 + k4_p53) * h / 6\n",
    "    mdcyto += (k1_mdmcyto + 2*k2_mdmcyto + 2*k3_mdmcyto + k4_mdmcyto) * h / 6\n",
    "    mdmn += (k1_mdmn + 2*k2_mdmn + 2*k3_mdmn + k4_mdmn) * h / 6\n",
    "    pten += (k1_pten + 2*k2_pten + 2*k3_pten + k4_pten) * h / 6\n",
    "    return p53, mdcyto, mdmn, pten"
   ]
  },
  {
   "cell_type": "markdown",
   "metadata": {},
   "source": [
    "## 3. Parametry symulacji i scenariusze"
   ]
  },
  {
   "cell_type": "code",
   "execution_count": 11,
   "metadata": {},
   "outputs": [],
   "source": [
    "# Warunki początkowe zgodnie z liczbą cząsteczek w hepatocycie:\n",
    "p53_0 = 102000\n",
    "mdmcyto_0 = 205000\n",
    "mdmn_0 = 205000\n",
    "pten_0 = 614000\n",
    "proteins = [p53_0, mdmcyto_0, mdmn_0, pten_0] \n",
    "\n",
    "h = 6 # krok czasowy w minutach\n",
    "iterations = int(48*60/h) # liczba iteracji na 48h\n",
    "conditions = { \n",
    "        \"Basic\" : (False, False, True), # siRNA, PTEN_off, no_DNA_damage\n",
    "        \"Tumor\" : (False, True, False),\n",
    "}\n",
    "scenarios = list(conditions.keys())"
   ]
  },
  {
   "cell_type": "markdown",
   "metadata": {},
   "source": [
    "## 4. Wyniki symulacji: RK4 (stały krok)"
   ]
  },
  {
   "cell_type": "code",
   "execution_count": null,
   "metadata": {},
   "outputs": [],
   "source": [
    "def RK4(params, proteins, scenario, iterations, h):\n",
    "    siRNA, pten_off, no_DNA_damage = conditions[scenario]\n",
    "    p53, mdmcyto, mdmn, pten = proteins\n",
    "    time_values = []\n",
    "    p53_values = []\n",
    "    mdmcyto_values = []\n",
    "    mdmn_values = []\n",
    "    pten_values = []\n",
    "    for i in range(iterations):\n",
    "        time = i * h\n",
    "        time_values.append(time)\n",
    "        p53_values.append(p53)\n",
    "        mdmcyto_values.append(mdmcyto)\n",
    "        mdmn_values.append(mdmn)\n",
    "        pten_values.append(pten)\n",
    "        p53, mdmcyto, mdmn, pten = RK4const(params, p53, mdmcyto, mdmn, pten, h, siRNA, pten_off, no_DNA_damage)\n",
    "    return time_values, [p53_values, mdmcyto_values, mdmn_values, pten_values]"
   ]
  },
  {
   "cell_type": "markdown",
   "metadata": {},
   "source": [
    "Dla porówniania pozwolę sobie skorzystać z rozwiązań gotowych oferowanych przez pakiet SALib (niby nie mówił Profesor, że nie można korzystać z takich, ale uznaliśmy że nie wypada, więc to tylko kontorlnie):"
   ]
  },
  {
   "cell_type": "code",
   "execution_count": null,
   "metadata": {},
   "outputs": [],
   "source": [
    "from SALib.sample import saltelli\n",
    "from SALib.analyze import soboldef\n",
    "\n",
    "\n",
    "model_ode(t, y, siRNA=False, pten_off=False, no_DNA_damage=False):\n",
    "    p53, mdmcyto, mdmn, pten = y\n",
    "    dydt = np.zeros(4)\n",
    "    dydt[0] = f_p53(p53, mdmn)\n",
    "    dydt[1] = f_mdmcyto(p53, mdmcyto, pten, siRNA=siRNA, no_DNA_damage=no_DNA_damage)\n",
    "    dydt[2] = f_mdmn(mdmn, mdmcyto, pten, no_DNA_damage=no_DNA_damage)\n",
    "    dydt[3] = f_pten(pten, p53, pten_off=pten_off)\n",
    "    return dydt\n",
    "for scenario in scenarios:\n",
    "    siRNA, pten_off, no_DNA_damage = conditions[scenario]\n",
    "    # Definicja zakresu czasu i warunków początkowych\n",
    "    t_span = (0, 48*60)  # od 0 do 2880 minut (48h)\n",
    "    y0 = [p53_0, mdmcyto_0, mdmn_0, pten_0]\n",
    "    t_eval = np.arange(0, 48*60 + h, h)\n",
    "    sol = solve_ivp(\n",
    "        model_ode, t_span, y0, method='RK45', t_eval=t_eval,\n",
    "        args=(siRNA, pten_off, no_DNA_damage)\n",
    "    )\n",
    "    plt.figure(figsize=(10,5))\n",
    "    plt.xlabel(\"Czas [min]\")\n",
    "    plt.ylabel(\"Liczba cząsteczek białka\")\n",
    "    plt.title(f\"SALibsobol: Liczności białek w 48h w scenariuszu: {scenario}\")\n",
    "    plt.yscale(\"log\")\n",
    "    plt.legend()\n",
    "    plt.grid(True, which=\"both\", ls=\"--\")\n",
    "    plt.show()\n"
   ]
  },
  {
   "cell_type": "markdown",
   "metadata": {},
   "source": [
    "## 6. Wnioski\n",
    "\n",
    "1.\n",
    "\n",
    "---"
   ]
  }
 ],
 "metadata": {
  "kernelspec": {
   "display_name": ".venv",
   "language": "python",
   "name": "python3"
  },
  "language_info": {
   "codemirror_mode": {
    "name": "ipython",
    "version": 3
   },
   "file_extension": ".py",
   "mimetype": "text/x-python",
   "name": "python",
   "nbconvert_exporter": "python",
   "pygments_lexer": "ipython3",
   "version": "3.11.0"
  }
 },
 "nbformat": 4,
 "nbformat_minor": 2
}
